{
 "cells": [
  {
   "cell_type": "markdown",
   "id": "4c76dd2b",
   "metadata": {},
   "source": [
    "# Benchmark Analysis\n",
    "Benchmark data is found under /swann/benchmark"
   ]
  },
  {
   "cell_type": "code",
   "execution_count": 3,
   "id": "89ad9a25",
   "metadata": {},
   "outputs": [],
   "source": [
    "# Imports\n",
    "import csv\n",
    "import pandas as pd\n",
    "import glob"
   ]
  },
  {
   "cell_type": "code",
   "execution_count": 41,
   "id": "861f0ea3",
   "metadata": {},
   "outputs": [],
   "source": [
    "# Helper functions\n",
    "\n",
    "def csv_to_df(file: str):\n",
    "    \"\"\" Takes in a benchmark file and returns as Pandas DataFrame \"\"\"\n",
    "    df = pd.read_csv(\n",
    "        f'/swann/benchmark/{file}',\n",
    "        header = 9\n",
    "    )\n",
    "    df.dropna(axis=1, inplace=True)\n",
    "    return df\n",
    "\n",
    "def get_benchmarks():\n",
    "    \"\"\" Find all csv files in benchmark folder sorted by date \"\"\"\n",
    "    files = glob.glob('/swann/benchmark/*.csv')\n",
    "    files.sort()\n",
    "    return files\n",
    "    "
   ]
  },
  {
   "cell_type": "code",
   "execution_count": 42,
   "id": "ab946186",
   "metadata": {},
   "outputs": [
    {
     "name": "stdout",
     "output_type": "stream",
     "text": [
      "[+] /swann/benchmark/benchmark-1677840696.csv\n"
     ]
    }
   ],
   "source": [
    "for bm in get_benchmarks():\n",
    "    print(f'[+] {bm}')"
   ]
  },
  {
   "cell_type": "code",
   "execution_count": 43,
   "id": "1fb6ae33",
   "metadata": {},
   "outputs": [
    {
     "data": {
      "text/html": [
       "<div>\n",
       "<style scoped>\n",
       "    .dataframe tbody tr th:only-of-type {\n",
       "        vertical-align: middle;\n",
       "    }\n",
       "\n",
       "    .dataframe tbody tr th {\n",
       "        vertical-align: top;\n",
       "    }\n",
       "\n",
       "    .dataframe thead th {\n",
       "        text-align: right;\n",
       "    }\n",
       "</style>\n",
       "<table border=\"1\" class=\"dataframe\">\n",
       "  <thead>\n",
       "    <tr style=\"text-align: right;\">\n",
       "      <th></th>\n",
       "      <th>name</th>\n",
       "      <th>iterations</th>\n",
       "      <th>real_time</th>\n",
       "      <th>cpu_time</th>\n",
       "      <th>time_unit</th>\n",
       "    </tr>\n",
       "  </thead>\n",
       "  <tbody>\n",
       "    <tr>\n",
       "      <th>0</th>\n",
       "      <td>LoadDatasets/0</td>\n",
       "      <td>1</td>\n",
       "      <td>2.576420e+09</td>\n",
       "      <td>2.522200e+09</td>\n",
       "      <td>ns</td>\n",
       "    </tr>\n",
       "    <tr>\n",
       "      <th>1</th>\n",
       "      <td>LoadDatasets/1</td>\n",
       "      <td>1</td>\n",
       "      <td>7.678800e+09</td>\n",
       "      <td>7.536160e+09</td>\n",
       "      <td>ns</td>\n",
       "    </tr>\n",
       "    <tr>\n",
       "      <th>2</th>\n",
       "      <td>ParseDatasets/0</td>\n",
       "      <td>1</td>\n",
       "      <td>2.503260e+09</td>\n",
       "      <td>2.502030e+09</td>\n",
       "      <td>ns</td>\n",
       "    </tr>\n",
       "    <tr>\n",
       "      <th>3</th>\n",
       "      <td>ParseDatasets/1</td>\n",
       "      <td>1</td>\n",
       "      <td>7.518260e+09</td>\n",
       "      <td>7.498580e+09</td>\n",
       "      <td>ns</td>\n",
       "    </tr>\n",
       "  </tbody>\n",
       "</table>\n",
       "</div>"
      ],
      "text/plain": [
       "              name  iterations     real_time      cpu_time time_unit\n",
       "0   LoadDatasets/0           1  2.576420e+09  2.522200e+09        ns\n",
       "1   LoadDatasets/1           1  7.678800e+09  7.536160e+09        ns\n",
       "2  ParseDatasets/0           1  2.503260e+09  2.502030e+09        ns\n",
       "3  ParseDatasets/1           1  7.518260e+09  7.498580e+09        ns"
      ]
     },
     "execution_count": 43,
     "metadata": {},
     "output_type": "execute_result"
    }
   ],
   "source": [
    "csv_to_df('benchmark-1677840696.csv')"
   ]
  },
  {
   "cell_type": "code",
   "execution_count": null,
   "id": "c5f29497",
   "metadata": {},
   "outputs": [],
   "source": []
  }
 ],
 "metadata": {
  "kernelspec": {
   "display_name": "Python 3 (ipykernel)",
   "language": "python",
   "name": "python3"
  },
  "language_info": {
   "codemirror_mode": {
    "name": "ipython",
    "version": 3
   },
   "file_extension": ".py",
   "mimetype": "text/x-python",
   "name": "python",
   "nbconvert_exporter": "python",
   "pygments_lexer": "ipython3",
   "version": "3.10.8"
  }
 },
 "nbformat": 4,
 "nbformat_minor": 5
}
