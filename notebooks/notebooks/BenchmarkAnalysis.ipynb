{
 "cells": [
  {
   "cell_type": "markdown",
   "id": "4c76dd2b",
   "metadata": {},
   "source": [
    "# Benchmark Analysis\n",
    "Benchmark data is found under /swann/benchmark"
   ]
  },
  {
   "cell_type": "code",
   "execution_count": 3,
   "id": "89ad9a25",
   "metadata": {},
   "outputs": [],
   "source": [
    "# Imports\n",
    "import csv\n",
    "import pandas as pd\n",
    "import glob"
   ]
  },
  {
   "cell_type": "code",
   "execution_count": 4,
   "id": "861f0ea3",
   "metadata": {},
   "outputs": [],
   "source": [
    "# Helper functions\n",
    "\n",
    "def csv_to_df(file: str):\n",
    "    \"\"\" Takes in a benchmark file and returns as Pandas DataFrame \"\"\"\n",
    "    df = pd.read_csv(\n",
    "        f'/swann/benchmark/{file}',\n",
    "        header = 9\n",
    "    )\n",
    "    df.dropna(axis=1, inplace=True)\n",
    "    return df\n",
    "\n",
    "def get_benchmarks():\n",
    "    \"\"\" Find all csv files in benchmark folder sorted by date \"\"\"\n",
    "    files = glob.glob('/swann/benchmark/*.csv')\n",
    "    files.sort()\n",
    "    return files\n",
    "\n",
    "def filter_df_with_wildcard_name(df: pd.DataFrame, name: str):\n",
    "    \"\"\"\n",
    "        Example:\n",
    "            - name = \"LoadDatasets\"\n",
    "        Will return rows where name is \"*LoadDatasets*\"\n",
    "    \"\"\"\n",
    "    return df.loc[df['name'].str.contains(name)]"
   ]
  },
  {
   "cell_type": "code",
   "execution_count": 39,
   "id": "ab946186",
   "metadata": {},
   "outputs": [
    {
     "name": "stdout",
     "output_type": "stream",
     "text": [
      "[+] /swann/benchmark/benchmark-1677845278.csv\n"
     ]
    }
   ],
   "source": [
    "for bm in get_benchmarks():\n",
    "    print(f'[+] {bm}')"
   ]
  },
  {
   "cell_type": "code",
   "execution_count": 73,
   "id": "64d0aa23",
   "metadata": {},
   "outputs": [
    {
     "data": {
      "text/html": [
       "<div>\n",
       "<style scoped>\n",
       "    .dataframe tbody tr th:only-of-type {\n",
       "        vertical-align: middle;\n",
       "    }\n",
       "\n",
       "    .dataframe tbody tr th {\n",
       "        vertical-align: top;\n",
       "    }\n",
       "\n",
       "    .dataframe thead th {\n",
       "        text-align: right;\n",
       "    }\n",
       "</style>\n",
       "<table border=\"1\" class=\"dataframe\">\n",
       "  <thead>\n",
       "    <tr style=\"text-align: right;\">\n",
       "      <th></th>\n",
       "      <th>name</th>\n",
       "      <th>iterations</th>\n",
       "      <th>real_time</th>\n",
       "      <th>cpu_time</th>\n",
       "      <th>time_unit</th>\n",
       "      <th>input_size</th>\n",
       "    </tr>\n",
       "  </thead>\n",
       "  <tbody>\n",
       "    <tr>\n",
       "      <th>0</th>\n",
       "      <td>LoadDatasets/100000</td>\n",
       "      <td>1</td>\n",
       "      <td>2602.41</td>\n",
       "      <td>2532.48</td>\n",
       "      <td>ms</td>\n",
       "      <td>100000</td>\n",
       "    </tr>\n",
       "    <tr>\n",
       "      <th>1</th>\n",
       "      <td>LoadDatasets/300000</td>\n",
       "      <td>1</td>\n",
       "      <td>7749.27</td>\n",
       "      <td>7604.63</td>\n",
       "      <td>ms</td>\n",
       "      <td>300000</td>\n",
       "    </tr>\n",
       "    <tr>\n",
       "      <th>2</th>\n",
       "      <td>ParseDatasets/100000</td>\n",
       "      <td>1</td>\n",
       "      <td>2538.79</td>\n",
       "      <td>2520.52</td>\n",
       "      <td>ms</td>\n",
       "      <td>100000</td>\n",
       "    </tr>\n",
       "    <tr>\n",
       "      <th>3</th>\n",
       "      <td>ParseDatasets/300000</td>\n",
       "      <td>1</td>\n",
       "      <td>7710.79</td>\n",
       "      <td>7691.85</td>\n",
       "      <td>ms</td>\n",
       "      <td>300000</td>\n",
       "    </tr>\n",
       "  </tbody>\n",
       "</table>\n",
       "</div>"
      ],
      "text/plain": [
       "                   name  iterations  real_time  cpu_time time_unit  input_size\n",
       "0   LoadDatasets/100000           1    2602.41   2532.48        ms      100000\n",
       "1   LoadDatasets/300000           1    7749.27   7604.63        ms      300000\n",
       "2  ParseDatasets/100000           1    2538.79   2520.52        ms      100000\n",
       "3  ParseDatasets/300000           1    7710.79   7691.85        ms      300000"
      ]
     },
     "execution_count": 73,
     "metadata": {},
     "output_type": "execute_result"
    }
   ],
   "source": [
    "# Load benchmark that has loading / parsing of datasets of size XS and S\n",
    "df_bm_loadparse = csv_to_df('benchmark-1677845278.csv')\n",
    "df_bm_loadparse"
   ]
  },
  {
   "cell_type": "code",
   "execution_count": 79,
   "id": "f98b71cc",
   "metadata": {},
   "outputs": [
    {
     "data": {
      "text/html": [
       "<div>\n",
       "<style scoped>\n",
       "    .dataframe tbody tr th:only-of-type {\n",
       "        vertical-align: middle;\n",
       "    }\n",
       "\n",
       "    .dataframe tbody tr th {\n",
       "        vertical-align: top;\n",
       "    }\n",
       "\n",
       "    .dataframe thead th {\n",
       "        text-align: right;\n",
       "    }\n",
       "</style>\n",
       "<table border=\"1\" class=\"dataframe\">\n",
       "  <thead>\n",
       "    <tr style=\"text-align: right;\">\n",
       "      <th></th>\n",
       "      <th>name</th>\n",
       "      <th>iterations</th>\n",
       "      <th>real_time</th>\n",
       "      <th>cpu_time</th>\n",
       "      <th>time_unit</th>\n",
       "      <th>input_size</th>\n",
       "    </tr>\n",
       "  </thead>\n",
       "  <tbody>\n",
       "    <tr>\n",
       "      <th>0</th>\n",
       "      <td>LoadDatasets/000000</td>\n",
       "      <td>1</td>\n",
       "      <td>0.00</td>\n",
       "      <td>0.00</td>\n",
       "      <td>ms</td>\n",
       "      <td>0</td>\n",
       "    </tr>\n",
       "    <tr>\n",
       "      <th>0</th>\n",
       "      <td>LoadDatasets/100000</td>\n",
       "      <td>1</td>\n",
       "      <td>2602.41</td>\n",
       "      <td>2532.48</td>\n",
       "      <td>ms</td>\n",
       "      <td>100000</td>\n",
       "    </tr>\n",
       "    <tr>\n",
       "      <th>1</th>\n",
       "      <td>LoadDatasets/300000</td>\n",
       "      <td>1</td>\n",
       "      <td>7749.27</td>\n",
       "      <td>7604.63</td>\n",
       "      <td>ms</td>\n",
       "      <td>300000</td>\n",
       "    </tr>\n",
       "  </tbody>\n",
       "</table>\n",
       "</div>"
      ],
      "text/plain": [
       "                  name  iterations  real_time  cpu_time time_unit  input_size\n",
       "0  LoadDatasets/000000           1       0.00      0.00        ms           0\n",
       "0  LoadDatasets/100000           1    2602.41   2532.48        ms      100000\n",
       "1  LoadDatasets/300000           1    7749.27   7604.63        ms      300000"
      ]
     },
     "execution_count": 79,
     "metadata": {},
     "output_type": "execute_result"
    }
   ],
   "source": [
    "df_load = filter_df_with_wildcard_name(df_bm_loadparse, \"LoadDatasets\")\n",
    "df_load_0 = pd.DataFrame(data={\n",
    "    \"name\": [\"LoadDatasets/000000\"],\n",
    "    \"iterations\": [1],\n",
    "    \"real_time\": [0],\n",
    "    \"cpu_time\": [0],\n",
    "    \"time_unit\": [\"ms\"],\n",
    "    \"input_size\": [0]\n",
    "})\n",
    "df_load = pd.concat([df_load_0, df_load])\n",
    "df_load"
   ]
  },
  {
   "cell_type": "code",
   "execution_count": 78,
   "id": "f20f4c6b",
   "metadata": {},
   "outputs": [
    {
     "data": {
      "text/plain": [
       "Text(0, 0.5, 'Time (ms)')"
      ]
     },
     "execution_count": 78,
     "metadata": {},
     "output_type": "execute_result"
    },
    {
     "data": {
      "image/png": "[encoded data removed]",
      "text/plain": [
       "<Figure size 640x480 with 1 Axes>"
      ]
     },
     "metadata": {},
     "output_type": "display_data"
    }
   ],
   "source": [
    "load_line = df_load.plot.line(title='Load dataset', x='input_size', y='cpu_time', legend=False)\n",
    "load_line.set_xlabel(\"Number of points\")\n",
    "load_line.set_ylabel(\"Time (ms)\")"
   ]
  },
  {
   "cell_type": "code",
   "execution_count": null,
   "id": "4f32d74d",
   "metadata": {},
   "outputs": [],
   "source": []
  }
 ],
 "metadata": {
  "kernelspec": {
   "display_name": "Python 3 (ipykernel)",
   "language": "python",
   "name": "python3"
  },
  "language_info": {
   "codemirror_mode": {
    "name": "ipython",
    "version": 3
   },
   "file_extension": ".py",
   "mimetype": "text/x-python",
   "name": "python",
   "nbconvert_exporter": "python",
   "pygments_lexer": "ipython3",
   "version": "3.10.8"
  }
 },
 "nbformat": 4,
 "nbformat_minor": 5
}
