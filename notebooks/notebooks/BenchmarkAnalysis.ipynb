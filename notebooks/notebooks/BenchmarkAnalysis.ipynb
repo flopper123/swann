{
 "cells": [
  {
   "cell_type": "markdown",
   "id": "4c76dd2b",
   "metadata": {},
   "source": [
    "# Benchmark Analysis\n",
    "Benchmark data is found under /swann/benchmark"
   ]
  },
  {
   "cell_type": "code",
   "execution_count": null,
   "id": "89ad9a25",
   "metadata": {},
   "outputs": [],
   "source": [
    "# Imports\n",
    "import csv\n",
    "import pandas as pd\n",
    "import glob"
   ]
  },
  {
   "cell_type": "code",
   "execution_count": null,
   "id": "861f0ea3",
   "metadata": {},
   "outputs": [],
   "source": [
    "# Helper functions\n",
    "\n",
    "def csv_to_df(file: str):\n",
    "    \"\"\" Takes in a benchmark file and returns as Pandas DataFrame \"\"\"\n",
    "    df = pd.read_csv(\n",
    "        f'/swann/benchmark/{file}',\n",
    "        header = 9\n",
    "    )\n",
    "    df.dropna(axis=1, inplace=True)\n",
    "    return df\n",
    "\n",
    "def get_benchmarks(p=\"\"):\n",
    "    \"\"\" Find all csv files in benchmark folder sorted by date \"\"\"\n",
    "    files = glob.glob(f'/swann/benchmark/{p}*.csv')\n",
    "    files.sort()\n",
    "    return files\n",
    "\n",
    "def filter_df_with_wildcard_name(df: pd.DataFrame, name: str):\n",
    "    \"\"\"\n",
    "        Example:\n",
    "            - name = \"LoadDatasets\"\n",
    "        Will return rows where name is \"*LoadDatasets*\"\n",
    "    \"\"\"\n",
    "    return df.loc[df['name'].str.contains(name)]\n",
    "\n",
    "def add_empty_time(df: pd.DataFrame, name: str):\n",
    "    return pd.concat([\n",
    "        pd.DataFrame(data={\n",
    "            \"name\": [f\"{name}/-1\"],\n",
    "            \"iterations\": [1],\n",
    "            \"real_time\": [0],\n",
    "            \"cpu_time\": [0],\n",
    "            \"time_unit\": [\"ms\"],\n",
    "            \"input_size\": [0]\n",
    "        }),\n",
    "        df\n",
    "    ], ignore_index=True)"
   ]
  },
  {
   "cell_type": "code",
   "execution_count": null,
   "id": "ab946186",
   "metadata": {},
   "outputs": [],
   "source": [
    "for bm in get_benchmarks('/'):\n",
    "    print(f'[+] {bm}')"
   ]
  },
  {
   "cell_type": "markdown",
   "id": "1c5fb90f",
   "metadata": {},
   "source": [
    "### How to load a dataset"
   ]
  },
  {
   "cell_type": "code",
   "execution_count": null,
   "id": "64d0aa23",
   "metadata": {},
   "outputs": [],
   "source": [
    "# Load benchmark that has loading / parsing of datasets of size XS and S\n",
    "df_bm_loadparse = csv_to_df('...')\n",
    "df_bm_loadparse"
   ]
  },
  {
   "cell_type": "markdown",
   "id": "7bc15a3d",
   "metadata": {},
   "source": [
    "# Visualize data"
   ]
  },
  {
   "cell_type": "markdown",
   "id": "80539f9e",
   "metadata": {},
   "source": [
    "### Benchmark Query"
   ]
  },
  {
   "cell_type": "code",
   "execution_count": null,
   "id": "fad6766d",
   "metadata": {},
   "outputs": [],
   "source": [
    "df_bm_query = csv_to_df(\"hasc/benchmark-optimal.csv\")\n",
    "\n",
    "df_query = filter_df_with_wildcard_name(df_bm_query, \"QueryXPointsLSHForest\")\n",
    "\n",
    "# Set input size\n",
    "df_query.at[0, 'input_size'] = \"100.000\"\n",
    "df_query.at[1, 'input_size'] = \"300.000\"\n",
    "df_query.at[2, 'input_size'] = \"10.000.000\"\n",
    "\n",
    "df_query.at[0, 'input_size_val'] = 100_000\n",
    "df_query.at[1, 'input_size_val'] = 300_000\n",
    "df_query.at[2, 'input_size_val'] = 10_000_000\n",
    "\n",
    "\n",
    "# Show in ms\n",
    "df_query.at[0, 'timePerQuery'] *= 1_000\n",
    "df_query.at[1, 'timePerQuery'] *= 1_000\n",
    "df_query.at[2, 'timePerQuery'] *= 1_000\n",
    "\n",
    "df_query"
   ]
  },
  {
   "cell_type": "code",
   "execution_count": null,
   "id": "7cb2a18c",
   "metadata": {},
   "outputs": [],
   "source": [
    "import matplotlib.pyplot as plt"
   ]
  },
  {
   "cell_type": "code",
   "execution_count": null,
   "id": "5226ce14",
   "metadata": {},
   "outputs": [],
   "source": [
    "plt.bar(df_query['input_size'], df_query['timePerQuery'], color = 'teal')\n",
    "plt.xlabel(\"Dataset size\")\n",
    "plt.ylabel(\"Avg. query time (ms)\")\n",
    "plt.title(\"Average query time compared to dataset size - (10 nn, 90% recall)\")\n",
    "plt.show()"
   ]
  },
  {
   "cell_type": "code",
   "execution_count": null,
   "id": "1e01a3ff",
   "metadata": {},
   "outputs": [],
   "source": [
    "plt.bar(df_query['input_size'], df_query['input_size_val']/df_query['timePerQuery'], color = 'teal')\n",
    "plt.xlabel(\"Dataset size\")\n",
    "plt.ylabel(\"Avg. query time for 10 nn in ms\")\n",
    "plt.title(\"Average query time compared to dataset size\")\n",
    "plt.show()"
   ]
  },
  {
   "cell_type": "code",
   "execution_count": null,
   "id": "4f331f33",
   "metadata": {},
   "outputs": [],
   "source": [
    "df_query_line = df_query.plot.line(title='LSH Forest query - 10 nearest neighbors', x='input_size', y='cpu_time', legend=False)\n",
    "df_query_line.set_xlabel(\"Number of points\")\n",
    "df_query_line.set_ylabel(\"Time (ms)\")"
   ]
  },
  {
   "cell_type": "markdown",
   "id": "7702e888",
   "metadata": {},
   "source": [
    "### Loading of dataset"
   ]
  },
  {
   "cell_type": "code",
   "execution_count": null,
   "id": "f98b71cc",
   "metadata": {},
   "outputs": [],
   "source": [
    "df_load = filter_df_with_wildcard_name(df_bm_loadparse, \"LoadDatasets\")\n",
    "df_load_0 = pd.DataFrame(data={\n",
    "    \"name\": [\"LoadDatasets/000000\"],\n",
    "    \"iterations\": [1],\n",
    "    \"real_time\": [0],\n",
    "    \"cpu_time\": [0],\n",
    "    \"time_unit\": [\"ms\"],\n",
    "    \"input_size\": [0]\n",
    "})\n",
    "df_load = pd.concat([df_load_0, df_load])\n",
    "df_load"
   ]
  },
  {
   "cell_type": "code",
   "execution_count": null,
   "id": "f20f4c6b",
   "metadata": {},
   "outputs": [],
   "source": [
    "load_line = df_load.plot.line(title='Load dataset', x='input_size', y='cpu_time', legend=False)\n",
    "load_line.set_xlabel(\"Number of points\")\n",
    "load_line.set_ylabel(\"Time (ms)\")"
   ]
  },
  {
   "cell_type": "code",
   "execution_count": null,
   "id": "bdbe61e6",
   "metadata": {},
   "outputs": [],
   "source": []
  }
 ],
 "metadata": {
  "kernelspec": {
   "display_name": "Python 3 (ipykernel)",
   "language": "python",
   "name": "python3"
  },
  "language_info": {
   "codemirror_mode": {
    "name": "ipython",
    "version": 3
   },
   "file_extension": ".py",
   "mimetype": "text/x-python",
   "name": "python",
   "nbconvert_exporter": "python",
   "pygments_lexer": "ipython3",
   "version": "3.10.8"
  }
 },
 "nbformat": 4,
 "nbformat_minor": 5
}
