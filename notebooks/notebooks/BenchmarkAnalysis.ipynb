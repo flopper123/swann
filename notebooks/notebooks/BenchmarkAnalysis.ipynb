{
 "cells": [
  {
   "cell_type": "markdown",
   "id": "4c76dd2b",
   "metadata": {},
   "source": [
    "# Benchmark Analysis\n",
    "Benchmark data is found under /swann/benchmark"
   ]
  },
  {
   "cell_type": "code",
   "execution_count": 1,
   "id": "89ad9a25",
   "metadata": {},
   "outputs": [],
   "source": [
    "# Imports\n",
    "import csv\n",
    "import pandas as pd\n",
    "import glob"
   ]
  },
  {
   "cell_type": "code",
   "execution_count": 26,
   "id": "861f0ea3",
   "metadata": {},
   "outputs": [],
   "source": [
    "# Helper functions\n",
    "\n",
    "def csv_to_df(file: str):\n",
    "    \"\"\" Takes in a benchmark file and returns as Pandas DataFrame \"\"\"\n",
    "    df = pd.read_csv(\n",
    "        f'/swann/benchmark/{file}',\n",
    "        header = 9\n",
    "    )\n",
    "    df.dropna(axis=1, inplace=True)\n",
    "    return df\n",
    "\n",
    "def get_benchmarks():\n",
    "    \"\"\" Find all csv files in benchmark folder sorted by date \"\"\"\n",
    "    files = glob.glob('/swann/benchmark/*.csv')\n",
    "    files.sort()\n",
    "    return files\n",
    "\n",
    "def filter_df_with_wildcard_name(df: pd.DataFrame, name: str):\n",
    "    \"\"\"\n",
    "        Example:\n",
    "            - name = \"LoadDatasets\"\n",
    "        Will return rows where name is \"*LoadDatasets*\"\n",
    "    \"\"\"\n",
    "    return df.loc[df['name'].str.contains(name)]\n",
    "\n",
    "def add_empty_time(df: pd.DataFrame, name: str):\n",
    "    return pd.concat([\n",
    "        pd.DataFrame(data={\n",
    "            \"name\": [f\"{name}/-1\"],\n",
    "            \"iterations\": [1],\n",
    "            \"real_time\": [0],\n",
    "            \"cpu_time\": [0],\n",
    "            \"time_unit\": [\"ms\"],\n",
    "            \"input_size\": [0]\n",
    "        }),\n",
    "        df\n",
    "    ], ignore_index=True)"
   ]
  },
  {
   "cell_type": "code",
   "execution_count": 3,
   "id": "ab946186",
   "metadata": {},
   "outputs": [
    {
     "name": "stdout",
     "output_type": "stream",
     "text": [
      "[+] /swann/benchmark/benchmark-1677845278.csv\n",
      "[+] /swann/benchmark/benchmark-1678891718.csv\n",
      "[+] /swann/benchmark/benchmark-1678967932.csv\n",
      "[+] /swann/benchmark/benchmark-1678993398.csv\n"
     ]
    }
   ],
   "source": [
    "for bm in get_benchmarks():\n",
    "    print(f'[+] {bm}')"
   ]
  },
  {
   "cell_type": "markdown",
   "id": "1c5fb90f",
   "metadata": {},
   "source": [
    "### How to load a dataset"
   ]
  },
  {
   "cell_type": "code",
   "execution_count": 4,
   "id": "64d0aa23",
   "metadata": {},
   "outputs": [
    {
     "data": {
      "text/html": [
       "<div>\n",
       "<style scoped>\n",
       "    .dataframe tbody tr th:only-of-type {\n",
       "        vertical-align: middle;\n",
       "    }\n",
       "\n",
       "    .dataframe tbody tr th {\n",
       "        vertical-align: top;\n",
       "    }\n",
       "\n",
       "    .dataframe thead th {\n",
       "        text-align: right;\n",
       "    }\n",
       "</style>\n",
       "<table border=\"1\" class=\"dataframe\">\n",
       "  <thead>\n",
       "    <tr style=\"text-align: right;\">\n",
       "      <th></th>\n",
       "      <th>name</th>\n",
       "      <th>iterations</th>\n",
       "      <th>real_time</th>\n",
       "      <th>cpu_time</th>\n",
       "      <th>time_unit</th>\n",
       "      <th>input_size</th>\n",
       "    </tr>\n",
       "  </thead>\n",
       "  <tbody>\n",
       "    <tr>\n",
       "      <th>0</th>\n",
       "      <td>LoadDatasets/100000</td>\n",
       "      <td>1</td>\n",
       "      <td>2602.41</td>\n",
       "      <td>2532.48</td>\n",
       "      <td>ms</td>\n",
       "      <td>100000</td>\n",
       "    </tr>\n",
       "    <tr>\n",
       "      <th>1</th>\n",
       "      <td>LoadDatasets/300000</td>\n",
       "      <td>1</td>\n",
       "      <td>7749.27</td>\n",
       "      <td>7604.63</td>\n",
       "      <td>ms</td>\n",
       "      <td>300000</td>\n",
       "    </tr>\n",
       "    <tr>\n",
       "      <th>2</th>\n",
       "      <td>ParseDatasets/100000</td>\n",
       "      <td>1</td>\n",
       "      <td>2538.79</td>\n",
       "      <td>2520.52</td>\n",
       "      <td>ms</td>\n",
       "      <td>100000</td>\n",
       "    </tr>\n",
       "    <tr>\n",
       "      <th>3</th>\n",
       "      <td>ParseDatasets/300000</td>\n",
       "      <td>1</td>\n",
       "      <td>7710.79</td>\n",
       "      <td>7691.85</td>\n",
       "      <td>ms</td>\n",
       "      <td>300000</td>\n",
       "    </tr>\n",
       "  </tbody>\n",
       "</table>\n",
       "</div>"
      ],
      "text/plain": [
       "                   name  iterations  real_time  cpu_time time_unit  input_size\n",
       "0   LoadDatasets/100000           1    2602.41   2532.48        ms      100000\n",
       "1   LoadDatasets/300000           1    7749.27   7604.63        ms      300000\n",
       "2  ParseDatasets/100000           1    2538.79   2520.52        ms      100000\n",
       "3  ParseDatasets/300000           1    7710.79   7691.85        ms      300000"
      ]
     },
     "execution_count": 4,
     "metadata": {},
     "output_type": "execute_result"
    }
   ],
   "source": [
    "# Load benchmark that has loading / parsing of datasets of size XS and S\n",
    "df_bm_loadparse = csv_to_df('benchmark-1677845278.csv')\n",
    "df_bm_loadparse"
   ]
  },
  {
   "cell_type": "markdown",
   "id": "7bc15a3d",
   "metadata": {},
   "source": [
    "# Visualize data"
   ]
  },
  {
   "cell_type": "markdown",
   "id": "80539f9e",
   "metadata": {},
   "source": [
    "### Benchmark Query"
   ]
  },
  {
   "cell_type": "code",
   "execution_count": 63,
   "id": "fad6766d",
   "metadata": {},
   "outputs": [
    {
     "data": {
      "text/html": [
       "<div>\n",
       "<style scoped>\n",
       "    .dataframe tbody tr th:only-of-type {\n",
       "        vertical-align: middle;\n",
       "    }\n",
       "\n",
       "    .dataframe tbody tr th {\n",
       "        vertical-align: top;\n",
       "    }\n",
       "\n",
       "    .dataframe thead th {\n",
       "        text-align: right;\n",
       "    }\n",
       "</style>\n",
       "<table border=\"1\" class=\"dataframe\">\n",
       "  <thead>\n",
       "    <tr style=\"text-align: right;\">\n",
       "      <th></th>\n",
       "      <th>name</th>\n",
       "      <th>iterations</th>\n",
       "      <th>real_time</th>\n",
       "      <th>cpu_time</th>\n",
       "      <th>time_unit</th>\n",
       "      <th>input_size</th>\n",
       "      <th>recall</th>\n",
       "    </tr>\n",
       "  </thead>\n",
       "  <tbody>\n",
       "    <tr>\n",
       "      <th>0</th>\n",
       "      <td>Query10PointsLSHForest/-1</td>\n",
       "      <td>1</td>\n",
       "      <td>0.0</td>\n",
       "      <td>0.00000</td>\n",
       "      <td>ms</td>\n",
       "      <td>0.0</td>\n",
       "      <td>NaN</td>\n",
       "    </tr>\n",
       "    <tr>\n",
       "      <th>1</th>\n",
       "      <td>Query10PointsLSHForest/0</td>\n",
       "      <td>1</td>\n",
       "      <td>15214.0</td>\n",
       "      <td>1.52140</td>\n",
       "      <td>ms</td>\n",
       "      <td>90000.0</td>\n",
       "      <td>0.36978</td>\n",
       "    </tr>\n",
       "    <tr>\n",
       "      <th>2</th>\n",
       "      <td>Query10PointsLSHForest/1</td>\n",
       "      <td>1</td>\n",
       "      <td>26299.6</td>\n",
       "      <td>2.62994</td>\n",
       "      <td>ms</td>\n",
       "      <td>290000.0</td>\n",
       "      <td>0.35040</td>\n",
       "    </tr>\n",
       "  </tbody>\n",
       "</table>\n",
       "</div>"
      ],
      "text/plain": [
       "                        name  iterations  real_time  cpu_time time_unit  \\\n",
       "0  Query10PointsLSHForest/-1           1        0.0   0.00000        ms   \n",
       "1   Query10PointsLSHForest/0           1    15214.0   1.52140        ms   \n",
       "2   Query10PointsLSHForest/1           1    26299.6   2.62994        ms   \n",
       "\n",
       "   input_size   recall  \n",
       "0         0.0      NaN  \n",
       "1     90000.0  0.36978  \n",
       "2    290000.0  0.35040  "
      ]
     },
     "execution_count": 63,
     "metadata": {},
     "output_type": "execute_result"
    }
   ],
   "source": [
    "df_bm_query = csv_to_df(\"benchmark-1678993398.csv\")\n",
    "\n",
    "df_query = filter_df_with_wildcard_name(df_bm_query, \"Query10PointsLSHForest\")\n",
    "df_query = add_empty_time(df_query, \"Query10PointsLSHForest\")\n",
    "\n",
    "# Set input size\n",
    "df_query.at[0, 'input_size'] = 0\n",
    "df_query.at[1, 'input_size'] = 90_000\n",
    "df_query.at[2, 'input_size'] = 290_000\n",
    "\n",
    "# Show in seconds\n",
    "df_query.at[0, 'cpu_time'] /= 10_000\n",
    "df_query.at[1, 'cpu_time'] /= 10_000\n",
    "df_query.at[2, 'cpu_time'] /= 10_000\n",
    "df_query"
   ]
  },
  {
   "cell_type": "code",
   "execution_count": 64,
   "id": "4f331f33",
   "metadata": {},
   "outputs": [
    {
     "data": {
      "text/plain": [
       "Text(0, 0.5, 'Time (ms)')"
      ]
     },
     "execution_count": 64,
     "metadata": {},
     "output_type": "execute_result"
    },
    {
     "data": {
      "image/png": "[encoded data removed]",
      "text/plain": [
       "<Figure size 640x480 with 1 Axes>"
      ]
     },
     "metadata": {},
     "output_type": "display_data"
    }
   ],
   "source": [
    "df_query_line = df_query.plot.line(title='LSH Forest query - 10 nearest neighbors', x='input_size', y='cpu_time', legend=False)\n",
    "df_query_line.set_xlabel(\"Number of points\")\n",
    "df_query_line.set_ylabel(\"Time (ms)\")"
   ]
  },
  {
   "cell_type": "markdown",
   "id": "7702e888",
   "metadata": {},
   "source": [
    "### Loading of dataset"
   ]
  },
  {
   "cell_type": "code",
   "execution_count": 5,
   "id": "f98b71cc",
   "metadata": {},
   "outputs": [
    {
     "data": {
      "text/html": [
       "<div>\n",
       "<style scoped>\n",
       "    .dataframe tbody tr th:only-of-type {\n",
       "        vertical-align: middle;\n",
       "    }\n",
       "\n",
       "    .dataframe tbody tr th {\n",
       "        vertical-align: top;\n",
       "    }\n",
       "\n",
       "    .dataframe thead th {\n",
       "        text-align: right;\n",
       "    }\n",
       "</style>\n",
       "<table border=\"1\" class=\"dataframe\">\n",
       "  <thead>\n",
       "    <tr style=\"text-align: right;\">\n",
       "      <th></th>\n",
       "      <th>name</th>\n",
       "      <th>iterations</th>\n",
       "      <th>real_time</th>\n",
       "      <th>cpu_time</th>\n",
       "      <th>time_unit</th>\n",
       "      <th>input_size</th>\n",
       "    </tr>\n",
       "  </thead>\n",
       "  <tbody>\n",
       "    <tr>\n",
       "      <th>0</th>\n",
       "      <td>LoadDatasets/000000</td>\n",
       "      <td>1</td>\n",
       "      <td>0.00</td>\n",
       "      <td>0.00</td>\n",
       "      <td>ms</td>\n",
       "      <td>0</td>\n",
       "    </tr>\n",
       "    <tr>\n",
       "      <th>0</th>\n",
       "      <td>LoadDatasets/100000</td>\n",
       "      <td>1</td>\n",
       "      <td>2602.41</td>\n",
       "      <td>2532.48</td>\n",
       "      <td>ms</td>\n",
       "      <td>100000</td>\n",
       "    </tr>\n",
       "    <tr>\n",
       "      <th>1</th>\n",
       "      <td>LoadDatasets/300000</td>\n",
       "      <td>1</td>\n",
       "      <td>7749.27</td>\n",
       "      <td>7604.63</td>\n",
       "      <td>ms</td>\n",
       "      <td>300000</td>\n",
       "    </tr>\n",
       "  </tbody>\n",
       "</table>\n",
       "</div>"
      ],
      "text/plain": [
       "                  name  iterations  real_time  cpu_time time_unit  input_size\n",
       "0  LoadDatasets/000000           1       0.00      0.00        ms           0\n",
       "0  LoadDatasets/100000           1    2602.41   2532.48        ms      100000\n",
       "1  LoadDatasets/300000           1    7749.27   7604.63        ms      300000"
      ]
     },
     "execution_count": 5,
     "metadata": {},
     "output_type": "execute_result"
    }
   ],
   "source": [
    "df_load = filter_df_with_wildcard_name(df_bm_loadparse, \"LoadDatasets\")\n",
    "df_load_0 = pd.DataFrame(data={\n",
    "    \"name\": [\"LoadDatasets/000000\"],\n",
    "    \"iterations\": [1],\n",
    "    \"real_time\": [0],\n",
    "    \"cpu_time\": [0],\n",
    "    \"time_unit\": [\"ms\"],\n",
    "    \"input_size\": [0]\n",
    "})\n",
    "df_load = pd.concat([df_load_0, df_load])\n",
    "df_load"
   ]
  },
  {
   "cell_type": "code",
   "execution_count": 6,
   "id": "f20f4c6b",
   "metadata": {},
   "outputs": [
    {
     "data": {
      "text/plain": [
       "Text(0, 0.5, 'Time (ms)')"
      ]
     },
     "execution_count": 6,
     "metadata": {},
     "output_type": "execute_result"
    },
    {
     "data": {
      "image/png": "[encoded data removed]",
      "text/plain": [
       "<Figure size 640x480 with 1 Axes>"
      ]
     },
     "metadata": {},
     "output_type": "display_data"
    }
   ],
   "source": [
    "load_line = df_load.plot.line(title='Load dataset', x='input_size', y='cpu_time', legend=False)\n",
    "load_line.set_xlabel(\"Number of points\")\n",
    "load_line.set_ylabel(\"Time (ms)\")"
   ]
  }
 ],
 "metadata": {
  "kernelspec": {
   "display_name": "Python 3 (ipykernel)",
   "language": "python",
   "name": "python3"
  },
  "language_info": {
   "codemirror_mode": {
    "name": "ipython",
    "version": 3
   },
   "file_extension": ".py",
   "mimetype": "text/x-python",
   "name": "python",
   "nbconvert_exporter": "python",
   "pygments_lexer": "ipython3",
   "version": "3.10.8"
  }
 },
 "nbformat": 4,
 "nbformat_minor": 5
}
